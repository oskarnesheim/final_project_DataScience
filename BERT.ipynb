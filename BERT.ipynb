{
 "cells": [
  {
   "cell_type": "markdown",
   "metadata": {},
   "source": [
    "# BERT Classifier - Fine-tuned and Pre-trained\n",
    "\n",
    "Foundations of Data Science, La Sapienza University of Rome, Autum 2024\n",
    "\n",
    "Group 27\n",
    "\n",
    "Team Members:\n",
    "- Oskar Nesheim\n",
    "- August Nyheim\n",
    "- Magnus Ouren\n"
   ]
  },
  {
   "cell_type": "markdown",
   "metadata": {},
   "source": [
    "## Imports"
   ]
  },
  {
   "cell_type": "code",
   "execution_count": null,
   "metadata": {},
   "outputs": [],
   "source": [
    "import pandas as pd\n",
    "import torch\n",
    "from torch.optim import AdamW\n",
    "from torch.utils.data import Dataset, DataLoader\n",
    "from transformers import BertTokenizer, BertForSequenceClassification, get_linear_schedule_with_warmup\n",
    "from sklearn.model_selection import train_test_split\n",
    "from sklearn.preprocessing import LabelEncoder\n",
    "from sklearn.metrics import classification_report, confusion_matrix\n",
    "import seaborn as sns\n",
    "import matplotlib.pyplot as plt\n",
    "from tqdm import tqdm\n",
    "import re\n",
    "from sklearn.metrics import accuracy_score\n"
   ]
  },
  {
   "cell_type": "markdown",
   "metadata": {},
   "source": [
    "## Constants:"
   ]
  },
  {
   "cell_type": "code",
   "execution_count": 2,
   "metadata": {},
   "outputs": [],
   "source": [
    "DATA_LOCATION = './data'\n",
    "DATA_FILE = 'movies_balanced.json'\n",
    "GENRES_FILE = 'popular_genres.json'"
   ]
  },
  {
   "cell_type": "markdown",
   "metadata": {},
   "source": [
    "### Load and process data"
   ]
  },
  {
   "cell_type": "code",
   "execution_count": null,
   "metadata": {},
   "outputs": [],
   "source": [
    "# Load data\n",
    "df = pd.read_json(f'{DATA_LOCATION}/{DATA_FILE}')\n",
    "\n",
    "# Load genres\n",
    "genres = pd.read_json(f'{DATA_LOCATION}/{GENRES_FILE}')\n",
    "genres = genres.to_numpy().flatten()\n",
    "\n",
    "df.head()\n"
   ]
  },
  {
   "cell_type": "code",
   "execution_count": 4,
   "metadata": {},
   "outputs": [],
   "source": [
    "\n",
    "# Preprocessing text\n",
    "def preprocess_text(s):\n",
    "    s = re.sub(r'[^\\w\\s]', '', s)  # Remove punctuation\n",
    "    s = s.lower()  # Lowercase text\n",
    "    return s\n",
    "\n",
    "\n",
    "df['overview'] = df['overview'].apply(preprocess_text)\n",
    "df = df[df['genre'].isin(genres)]\n",
    "\n"
   ]
  },
  {
   "cell_type": "markdown",
   "metadata": {},
   "source": [
    "\n",
    "### Initialize BERT tokenizer"
   ]
  },
  {
   "cell_type": "code",
   "execution_count": 5,
   "metadata": {},
   "outputs": [],
   "source": [
    "tokenizer = BertTokenizer.from_pretrained('bert-base-uncased')\n",
    "\n",
    "def tokenize_function(texts):\n",
    "    return tokenizer(texts, add_special_tokens=True, max_length=120, padding='max_length', truncation=True, return_tensors='pt')\n"
   ]
  },
  {
   "cell_type": "markdown",
   "metadata": {},
   "source": [
    "### Tokenize all descriptions\n",
    "Also insert input_ids and attention_mask into the dataset."
   ]
  },
  {
   "cell_type": "code",
   "execution_count": 6,
   "metadata": {},
   "outputs": [],
   "source": [
    "encoded_batch = tokenize_function(df['overview'].tolist())\n",
    "df['input_ids'] = [tensor.squeeze() for tensor in encoded_batch['input_ids']]\n",
    "df['attention_mask'] = [tensor.squeeze()\n",
    "                        for tensor in encoded_batch['attention_mask']]"
   ]
  },
  {
   "cell_type": "markdown",
   "metadata": {},
   "source": [
    "### Encode labels\n",
    "Encodes the labels such as 'Action' or 'Commedy'"
   ]
  },
  {
   "cell_type": "code",
   "execution_count": 7,
   "metadata": {},
   "outputs": [],
   "source": [
    "label_encoder = LabelEncoder()\n",
    "df['labels'] = label_encoder.fit_transform(df['genre'])"
   ]
  },
  {
   "cell_type": "markdown",
   "metadata": {},
   "source": [
    "### Split data into training, validation, and test sets\n",
    "Here we are going for a 80 percent training, 10 percent validation and 10 percent testing split."
   ]
  },
  {
   "cell_type": "code",
   "execution_count": 8,
   "metadata": {},
   "outputs": [],
   "source": [
    "train_df, temp_df = train_test_split(df, test_size=0.2, random_state=42)\n",
    "val_df, test_df = train_test_split(temp_df, test_size=0.5, random_state=42)"
   ]
  },
  {
   "cell_type": "markdown",
   "metadata": {},
   "source": [
    "\n",
    "### Create PyTorch dataset"
   ]
  },
  {
   "cell_type": "code",
   "execution_count": 9,
   "metadata": {},
   "outputs": [],
   "source": [
    "class MovieDataset(Dataset):\n",
    "    def __init__(self, entries):\n",
    "        self.entries = entries\n",
    "\n",
    "    def __len__(self):\n",
    "        return len(self.entries)\n",
    "\n",
    "    def __getitem__(self, idx):\n",
    "        entry = self.entries.iloc[idx]\n",
    "        input_ids = entry['input_ids']\n",
    "        attention_mask = entry['attention_mask']\n",
    "        labels= torch.tensor(entry['labels'], dtype=torch.long)\n",
    "        return {'input_ids': input_ids, 'attention_mask': attention_mask, 'labels': labels}\n",
    "\n",
    "\n",
    "train_dataset = MovieDataset(train_df)\n",
    "val_dataset = MovieDataset(val_df)\n",
    "test_dataset = MovieDataset(test_df)\n",
    "\n",
    "batch_size = 16\n",
    "train_loader = DataLoader(train_dataset, batch_size=batch_size, shuffle=True)\n",
    "val_loader = DataLoader(val_dataset, batch_size=batch_size)\n",
    "test_loader = DataLoader(test_dataset, batch_size=batch_size)"
   ]
  },
  {
   "cell_type": "markdown",
   "metadata": {},
   "source": [
    "\n",
    "### Load BERT model for sequence classification"
   ]
  },
  {
   "cell_type": "code",
   "execution_count": null,
   "metadata": {},
   "outputs": [],
   "source": [
    "model = BertForSequenceClassification.from_pretrained(\n",
    "    'bert-base-uncased', num_labels=len(label_encoder.classes_))\n",
    "model.to(torch.device(\"cuda\" if torch.cuda.is_available() else \"cpu\"))\n",
    " \n",
    "lr = 5e-5  # 0.00005\n",
    "optimizer = AdamW(model.parameters(), lr=lr)\n",
    "scheduler = get_linear_schedule_with_warmup(\n",
    "    optimizer, num_warmup_steps=0, num_training_steps=len(train_loader) * 3)\n",
    "\n",
    "best_model = None\n",
    "best_val_loss = float('inf')\n"
   ]
  },
  {
   "cell_type": "code",
   "execution_count": null,
   "metadata": {},
   "outputs": [],
   "source": [
    "naked_model = BertForSequenceClassification.from_pretrained(\n",
    "    'bert-base-uncased', num_labels=len(label_encoder.classes_))\n",
    "naked_model.to(torch.device(\"cuda\" if torch.cuda.is_available() else \"cpu\"))"
   ]
  },
  {
   "cell_type": "markdown",
   "metadata": {},
   "source": [
    "### Training and validation"
   ]
  },
  {
   "cell_type": "code",
   "execution_count": null,
   "metadata": {},
   "outputs": [],
   "source": [
    "import torch\n",
    "from tqdm import tqdm\n",
    "from sklearn.metrics import f1_score, precision_score, recall_score, accuracy_score\n",
    "\n",
    "best_val_loss = float('inf')\n",
    "\n",
    "for epoch in range(5):\n",
    "    # === Training Loop ===\n",
    "    model.train()\n",
    "    total_loss = 0\n",
    "    for batch in tqdm(train_loader, desc=f\"Training Epoch {epoch+1}\"):\n",
    "        batch = {k: v.to(model.device) for k, v in batch.items()}\n",
    "        outputs = model(**batch)\n",
    "        loss = outputs.loss\n",
    "        loss.backward()\n",
    "        optimizer.step()\n",
    "        scheduler.step()\n",
    "        optimizer.zero_grad()\n",
    "        total_loss += loss.item()\n",
    "\n",
    "    train_loss = total_loss / len(train_loader)\n",
    "    current_lr = scheduler.get_last_lr()[0]  # Get current learning rate\n",
    "\n",
    "    # === Validation Loop ===\n",
    "    model.eval()\n",
    "    total_val_loss = 0\n",
    "    all_preds = []\n",
    "    all_labels = []\n",
    "\n",
    "    with torch.no_grad():\n",
    "        for batch in tqdm(val_loader, desc=f\"Validation Epoch {epoch+1}\"):\n",
    "            batch = {k: v.to(model.device) for k, v in batch.items()}\n",
    "            outputs = model(**batch)\n",
    "\n",
    "            # Extract predictions and true labels\n",
    "            logits = outputs.logits\n",
    "\n",
    "            # Get predicted class for each sample\n",
    "            predictions = torch.argmax(logits, dim=-1)\n",
    "\n",
    "            # Assuming labels are stored under 'labels' in the batch\n",
    "            labels = batch['labels']\n",
    "\n",
    "            # Store predictions and labels for F1 score calculation\n",
    "            all_preds.extend(predictions.cpu().numpy())\n",
    "            all_labels.extend(labels.cpu().numpy())\n",
    "\n",
    "            loss = outputs.loss\n",
    "            total_val_loss += loss.item()\n",
    "\n",
    "    val_loss = total_val_loss / len(val_loader)\n",
    "\n",
    "    # Calculate F1, precision, recall, and accuracy\n",
    "    # 'weighted' accounts for class imbalance\n",
    "    f1 = f1_score(all_labels, all_preds, average='weighted')\n",
    "    precision = precision_score(all_labels, all_preds, average='weighted')\n",
    "    recall = recall_score(all_labels, all_preds, average='weighted')\n",
    "    accuracy = accuracy_score(all_labels, all_preds)\n",
    "\n",
    "    if val_loss < best_val_loss:\n",
    "        best_val_loss = val_loss\n",
    "        best_model = model.state_dict()\n",
    "\n",
    "    # Print out the metrics for the current epoch\n",
    "    print(f\"Epoch {epoch+1} Metrics:\")\n",
    "    print(f\"Train Loss: {train_loss:.4f} | Val Loss: {val_loss:.4f}\")\n",
    "    print(f\"F1 Score: {f1:.4f} | Precision: {precision:.4f} | Recall: {\n",
    "          recall:.4f} | Accuracy: {accuracy:.4f}\")\n",
    "    print(f\"Current Learning Rate: {current_lr:.6f}\\n\")"
   ]
  },
  {
   "cell_type": "markdown",
   "metadata": {},
   "source": [
    "\n",
    "# Load best model for evaluation"
   ]
  },
  {
   "cell_type": "code",
   "execution_count": null,
   "metadata": {},
   "outputs": [],
   "source": [
    "\n",
    "model.load_state_dict(best_model)\n",
    "model.eval()\n",
    "predictions, actuals = [], []\n",
    "with torch.no_grad():\n",
    "    for batch in tqdm(test_loader, desc=\"Evaluating\"):\n",
    "        batch = {k: v.to(model.device) for k, v in batch.items()}\n",
    "        outputs = model(**batch)\n",
    "        logits = outputs.logits\n",
    "        predictions.extend(torch.argmax(logits, dim=-1).tolist())\n",
    "        actuals.extend(batch['labels'].tolist())\n"
   ]
  },
  {
   "cell_type": "code",
   "execution_count": null,
   "metadata": {},
   "outputs": [],
   "source": [
    "naked_model.eval()\n",
    "predictions_naked, actuals_naked = [], []\n",
    "with torch.no_grad():\n",
    "    for batch in tqdm(test_loader, desc=\"Evaluating\"):\n",
    "        batch = {k: v.to(naked_model.device) for k, v in batch.items()}\n",
    "        outputs = naked_model(**batch)\n",
    "        logits = outputs.logits\n",
    "        predictions_naked.extend(torch.argmax(logits, dim=-1).tolist())\n",
    "        actuals_naked.extend(batch['labels'].tolist())"
   ]
  },
  {
   "cell_type": "markdown",
   "metadata": {},
   "source": [
    "\n",
    "# Calculate accuracy\n",
    "finetuned model:"
   ]
  },
  {
   "cell_type": "code",
   "execution_count": null,
   "metadata": {},
   "outputs": [],
   "source": [
    "\n",
    "accuracy = accuracy_score(actuals, predictions)\n",
    "print(f'Accuracy: {accuracy:.4f}')  # Print the accuracy with 4 decimal places"
   ]
  },
  {
   "cell_type": "markdown",
   "metadata": {},
   "source": [
    "Naked model"
   ]
  },
  {
   "cell_type": "code",
   "execution_count": null,
   "metadata": {},
   "outputs": [],
   "source": [
    "accuracy_naked = accuracy_score(actuals_naked, predictions_naked)\n",
    "print(f'Accuracy: {accuracy_naked:.4f}')  # Print the accuracy with 4 decimal places"
   ]
  },
  {
   "cell_type": "markdown",
   "metadata": {},
   "source": [
    "\n",
    "### Generate classification report and modify index to show genre names"
   ]
  },
  {
   "cell_type": "code",
   "execution_count": null,
   "metadata": {},
   "outputs": [],
   "source": [
    "report = pd.DataFrame(classification_report(\n",
    "    actuals, predictions, output_dict=True)).transpose()\n",
    "report_naked = pd.DataFrame(classification_report(\n",
    "    actuals_naked, predictions_naked, output_dict=True)).transpose()"
   ]
  },
  {
   "cell_type": "markdown",
   "metadata": {},
   "source": [
    "### Remove the 'accuracy' row if it's present"
   ]
  },
  {
   "cell_type": "code",
   "execution_count": 53,
   "metadata": {},
   "outputs": [],
   "source": [
    "\n",
    "# report.drop(['accuracy'], inplace=True) #? Hvorfor gjør vi dette?\n",
    "# report['support'] = report['support'].apply(int)"
   ]
  },
  {
   "cell_type": "markdown",
   "metadata": {},
   "source": [
    "\n",
    "### Map numeric labels back to string names using LabelEncoder"
   ]
  },
  {
   "cell_type": "code",
   "execution_count": 54,
   "metadata": {},
   "outputs": [],
   "source": [
    "\n",
    "report.index = [label_encoder.inverse_transform(\n",
    "    [int(idx)])[0] if idx.isdigit() else idx for idx in report.index]\n",
    "report_naked.index = [label_encoder.inverse_transform(\n",
    "    [int(idx)])[0] if idx.isdigit() else idx for idx in report.index]"
   ]
  },
  {
   "cell_type": "markdown",
   "metadata": {},
   "source": [
    "\n",
    "### Visualization of the Classification Report"
   ]
  },
  {
   "cell_type": "code",
   "execution_count": null,
   "metadata": {},
   "outputs": [],
   "source": [
    "fig, ax = plt.subplots(figsize=(8, 5))\n",
    "report[['precision', 'recall', 'f1-score']].plot(kind='barh', ax=ax)\n",
    "ax.text(0.45, 1.1, f'Accuracy: {accuracy:.2f}', transform=ax.transAxes)\n",
    "ax.set_title('Classification Report')\n",
    "ax.set_xlim([0, 1])\n",
    "plt.show()"
   ]
  },
  {
   "cell_type": "code",
   "execution_count": null,
   "metadata": {},
   "outputs": [],
   "source": [
    "\n",
    "fig, ax = plt.subplots(figsize=(8, 5))\n",
    "report_naked[['precision', 'recall', 'f1-score']].plot(kind='barh', ax=ax)\n",
    "ax.text(0.45, 1.1, f'Accuracy: {accuracy_naked:.2f}', transform=ax.transAxes)\n",
    "ax.set_title('Classification Report')\n",
    "ax.set_xlim([0, 1])\n",
    "plt.show()"
   ]
  },
  {
   "cell_type": "markdown",
   "metadata": {},
   "source": [
    "\n",
    "### Confusion Matrix with genre names"
   ]
  },
  {
   "cell_type": "code",
   "execution_count": null,
   "metadata": {},
   "outputs": [],
   "source": [
    "\n",
    "conf_mat = confusion_matrix(actuals, predictions)\n",
    "sns.heatmap(conf_mat, annot=True, fmt='d', xticklabels=label_encoder.classes_,\n",
    "            yticklabels=label_encoder.classes_, cmap='Blues')\n",
    "plt.xlabel('Predicted')\n",
    "plt.ylabel('True')\n",
    "plt.title('Confusion Matrix')\n",
    "plt.show()"
   ]
  },
  {
   "cell_type": "code",
   "execution_count": null,
   "metadata": {},
   "outputs": [],
   "source": [
    "# Oppdatere denne slik at vi får lik data som i presentasjonen.\n",
    "print(classification_report(actuals, predictions))"
   ]
  },
  {
   "cell_type": "code",
   "execution_count": null,
   "metadata": {},
   "outputs": [],
   "source": [
    "\n",
    "conf_mat = confusion_matrix(actuals_naked, predictions_naked)\n",
    "sns.heatmap(conf_mat, annot=True, fmt='d', xticklabels=label_encoder.classes_,\n",
    "            yticklabels=label_encoder.classes_, cmap='Blues')\n",
    "plt.xlabel('Predicted')\n",
    "plt.ylabel('True')\n",
    "plt.title('Confusion Matrix')\n",
    "plt.show()"
   ]
  },
  {
   "cell_type": "code",
   "execution_count": null,
   "metadata": {},
   "outputs": [],
   "source": [
    "print(classification_report(actuals_naked, predictions_naked))"
   ]
  }
 ],
 "metadata": {
  "kernelspec": {
   "display_name": "venv",
   "language": "python",
   "name": "python3"
  },
  "language_info": {
   "codemirror_mode": {
    "name": "ipython",
    "version": 3
   },
   "file_extension": ".py",
   "mimetype": "text/x-python",
   "name": "python",
   "nbconvert_exporter": "python",
   "pygments_lexer": "ipython3",
   "version": "3.13.1"
  }
 },
 "nbformat": 4,
 "nbformat_minor": 2
}
